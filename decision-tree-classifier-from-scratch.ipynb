{
 "cells": [
  {
   "cell_type": "code",
   "execution_count": 1,
   "id": "34f3cb2d",
   "metadata": {
    "execution": {
     "iopub.execute_input": "2024-03-06T18:56:39.255043Z",
     "iopub.status.busy": "2024-03-06T18:56:39.254260Z",
     "iopub.status.idle": "2024-03-06T18:56:40.049208Z",
     "shell.execute_reply": "2024-03-06T18:56:40.048111Z"
    },
    "papermill": {
     "duration": 0.804286,
     "end_time": "2024-03-06T18:56:40.052024",
     "exception": false,
     "start_time": "2024-03-06T18:56:39.247738",
     "status": "completed"
    },
    "tags": []
   },
   "outputs": [],
   "source": [
    "import numpy as np # linear algebra\n",
    "import pandas as pd\n",
    "from collections import Counter\n",
    "from statistics import mode"
   ]
  },
  {
   "cell_type": "code",
   "execution_count": 2,
   "id": "eab1b636",
   "metadata": {
    "execution": {
     "iopub.execute_input": "2024-03-06T18:56:40.061652Z",
     "iopub.status.busy": "2024-03-06T18:56:40.061197Z",
     "iopub.status.idle": "2024-03-06T18:56:40.069531Z",
     "shell.execute_reply": "2024-03-06T18:56:40.068699Z"
    },
    "papermill": {
     "duration": 0.015609,
     "end_time": "2024-03-06T18:56:40.071849",
     "exception": false,
     "start_time": "2024-03-06T18:56:40.056240",
     "status": "completed"
    },
    "tags": []
   },
   "outputs": [],
   "source": [
    "data=[[\"Yes\",\"Yes\",7,\"No\"],\n",
    "      [\"Yes\",\"No\",12,\"No\"],\n",
    "      [\"No\",\"Yes\",18,\"Yes\"],\n",
    "      [\"No\",\"Yes\",35,\"Yes\"],\n",
    "      [\"Yes\",\"Yes\",38,\"Yes\"],\n",
    "      [\"Yes\",\"No\",50,\"No\",],\n",
    "      [\"No\",\"No\",83,\"No\"]]\n",
    "data_df=pd.DataFrame(data, columns=[\"Loves Popcorn\", \"Loves Soda\", \"Age\", \"Loves Cool as Ice\"])\n",
    "target=\"Loves Cool as Ice\""
   ]
  },
  {
   "cell_type": "code",
   "execution_count": 3,
   "id": "e842fa1a",
   "metadata": {
    "execution": {
     "iopub.execute_input": "2024-03-06T18:56:40.082526Z",
     "iopub.status.busy": "2024-03-06T18:56:40.081578Z",
     "iopub.status.idle": "2024-03-06T18:56:40.089687Z",
     "shell.execute_reply": "2024-03-06T18:56:40.088303Z"
    },
    "papermill": {
     "duration": 0.015911,
     "end_time": "2024-03-06T18:56:40.092158",
     "exception": false,
     "start_time": "2024-03-06T18:56:40.076247",
     "status": "completed"
    },
    "tags": []
   },
   "outputs": [
    {
     "name": "stdout",
     "output_type": "stream",
     "text": [
      "Categorical: Index(['Loves Popcorn', 'Loves Soda', 'Loves Cool as Ice'], dtype='object')\n",
      "Continuous: Index(['Age'], dtype='object')\n"
     ]
    }
   ],
   "source": [
    "df_cat=data_df.select_dtypes(include=np.object_).columns\n",
    "df_num=data_df.select_dtypes(include=np.number).columns\n",
    "print(\"Categorical:\", df_cat)\n",
    "print(\"Continuous:\", df_num)"
   ]
  },
  {
   "cell_type": "code",
   "execution_count": 4,
   "id": "a686e33e",
   "metadata": {
    "execution": {
     "iopub.execute_input": "2024-03-06T18:56:40.103177Z",
     "iopub.status.busy": "2024-03-06T18:56:40.102579Z",
     "iopub.status.idle": "2024-03-06T18:56:40.109660Z",
     "shell.execute_reply": "2024-03-06T18:56:40.108487Z"
    },
    "papermill": {
     "duration": 0.015552,
     "end_time": "2024-03-06T18:56:40.111900",
     "exception": false,
     "start_time": "2024-03-06T18:56:40.096348",
     "status": "completed"
    },
    "tags": []
   },
   "outputs": [],
   "source": [
    "def calc_gini_impurity(leaf):\n",
    "    gi=0\n",
    "    #get the total elements in the leaf\n",
    "    total=len(leaf)\n",
    "    if (total>0):\n",
    "        grp=dict(Counter(leaf))\n",
    "        s=0\n",
    "        for k,v in grp.items():\n",
    "            s= s + (v/total)**2 \n",
    "        gi= 1-s\n",
    "    return gi   \n",
    "\n",
    "def calc_weighted_gini(left_leaf, right_leaf, total):\n",
    "    left_gini_imp=calc_gini_impurity(left_leaf)\n",
    "    right_gini_imp=calc_gini_impurity(right_leaf)\n",
    "    weighted_gini= ((len(left_leaf)*left_gini_imp) + (len(right_leaf)*right_gini_imp))/total\n",
    "    return weighted_gini"
   ]
  },
  {
   "cell_type": "code",
   "execution_count": 5,
   "id": "633af1ec",
   "metadata": {
    "execution": {
     "iopub.execute_input": "2024-03-06T18:56:40.122309Z",
     "iopub.status.busy": "2024-03-06T18:56:40.121276Z",
     "iopub.status.idle": "2024-03-06T18:56:40.131299Z",
     "shell.execute_reply": "2024-03-06T18:56:40.130141Z"
    },
    "papermill": {
     "duration": 0.017825,
     "end_time": "2024-03-06T18:56:40.133675",
     "exception": false,
     "start_time": "2024-03-06T18:56:40.115850",
     "status": "completed"
    },
    "tags": []
   },
   "outputs": [],
   "source": [
    "def determine_gini_cat(var,df):\n",
    "    #determine the possible values in the col. That will be the possible ways to split the column\n",
    "    col=df[var]\n",
    "    threshold=list(set(col))\n",
    "    best_split=\"\"\n",
    "    min_gini=100000000000\n",
    "    for t in threshold:\n",
    "        left_leaf=df[df[var] == t][target]\n",
    "        right_leaf=df[df[var]!=t][target]\n",
    "        gini_gain=calc_weighted_gini(left_leaf,right_leaf,len(df[var]))\n",
    "        if (gini_gain < min_gini):\n",
    "            min_gini=gini_gain\n",
    "            best_split=t\n",
    "    return best_split,min_gini    \n",
    "\n",
    "def determine_gini_num(var,df):\n",
    "    #determine the possible values in the col. That will be the possible ways to split the column\n",
    "    col=df[var]\n",
    "    col=col.sort_values()\n",
    "    threshold=col.rolling(2).mean()\n",
    "    threshold=threshold[1:] #drop the NaNs\n",
    "    best_split=\"\"\n",
    "    min_gini=100000000000\n",
    "    for t in threshold:\n",
    "        left_leaf=df[df[var] <= t][target]\n",
    "        right_leaf=df[df[var] > t][target]\n",
    "        gini_gain=calc_weighted_gini(left_leaf,right_leaf,len(df[var]))\n",
    "        if (gini_gain < min_gini):\n",
    "            min_gini=gini_gain\n",
    "            best_split=t\n",
    "    return best_split,min_gini   \n",
    "\n",
    "def determine_gini_var(var, df):\n",
    "    #determine the possible values in the col. That will be the possible ways to split the column\n",
    "    if var in df_cat:\n",
    "        return (determine_gini_cat(var,df))\n",
    "    else:\n",
    "        return (determine_gini_num(var,df))     \n",
    "        "
   ]
  },
  {
   "cell_type": "code",
   "execution_count": 6,
   "id": "5738f6c8",
   "metadata": {
    "execution": {
     "iopub.execute_input": "2024-03-06T18:56:40.143761Z",
     "iopub.status.busy": "2024-03-06T18:56:40.143308Z",
     "iopub.status.idle": "2024-03-06T18:56:40.150521Z",
     "shell.execute_reply": "2024-03-06T18:56:40.149155Z"
    },
    "papermill": {
     "duration": 0.014963,
     "end_time": "2024-03-06T18:56:40.152722",
     "exception": false,
     "start_time": "2024-03-06T18:56:40.137759",
     "status": "completed"
    },
    "tags": []
   },
   "outputs": [],
   "source": [
    "def get_node_cat(df,var,threshold):\n",
    "    left_node=df[df[var]== threshold]\n",
    "    right_node=df[df[var] != threshold]\n",
    "    return left_node,right_node\n",
    "\n",
    "def get_node_num(df,var,threshold):\n",
    "    left_node=df[df[var] <= threshold]\n",
    "    right_node=df[df[var] > threshold]\n",
    "    return left_node,right_node\n",
    "\n",
    "def get_node(df,var,threshold):\n",
    "    if var in df_cat:\n",
    "        return get_node_cat(df,var,threshold)\n",
    "    else:\n",
    "        return get_node_num(df,var,threshold)"
   ]
  },
  {
   "cell_type": "code",
   "execution_count": 7,
   "id": "d1501171",
   "metadata": {
    "execution": {
     "iopub.execute_input": "2024-03-06T18:56:40.163015Z",
     "iopub.status.busy": "2024-03-06T18:56:40.162554Z",
     "iopub.status.idle": "2024-03-06T18:56:40.167329Z",
     "shell.execute_reply": "2024-03-06T18:56:40.166529Z"
    },
    "papermill": {
     "duration": 0.012368,
     "end_time": "2024-03-06T18:56:40.169272",
     "exception": false,
     "start_time": "2024-03-06T18:56:40.156904",
     "status": "completed"
    },
    "tags": []
   },
   "outputs": [],
   "source": [
    "def is_same(l):\n",
    "    return all(i==l[0] for i in l)"
   ]
  },
  {
   "cell_type": "code",
   "execution_count": 8,
   "id": "d252152b",
   "metadata": {
    "execution": {
     "iopub.execute_input": "2024-03-06T18:56:40.179692Z",
     "iopub.status.busy": "2024-03-06T18:56:40.179047Z",
     "iopub.status.idle": "2024-03-06T18:56:40.184695Z",
     "shell.execute_reply": "2024-03-06T18:56:40.183377Z"
    },
    "papermill": {
     "duration": 0.013573,
     "end_time": "2024-03-06T18:56:40.186893",
     "exception": false,
     "start_time": "2024-03-06T18:56:40.173320",
     "status": "completed"
    },
    "tags": []
   },
   "outputs": [],
   "source": [
    "def determine_node_dir(var,threshold):\n",
    "    is_left=False\n",
    "    if var in df_cat:\n",
    "        if (df_predict.at[0,var] == threshold):\n",
    "            is_left=True\n",
    "    else:\n",
    "        if (df_predict.at[0,var] <=threshold):\n",
    "            is_left = True\n",
    "    return is_left                "
   ]
  },
  {
   "cell_type": "code",
   "execution_count": 9,
   "id": "e4fb545a",
   "metadata": {
    "execution": {
     "iopub.execute_input": "2024-03-06T18:56:40.197520Z",
     "iopub.status.busy": "2024-03-06T18:56:40.197061Z",
     "iopub.status.idle": "2024-03-06T18:56:40.204524Z",
     "shell.execute_reply": "2024-03-06T18:56:40.203125Z"
    },
    "papermill": {
     "duration": 0.015658,
     "end_time": "2024-03-06T18:56:40.207052",
     "exception": false,
     "start_time": "2024-03-06T18:56:40.191394",
     "status": "completed"
    },
    "tags": []
   },
   "outputs": [],
   "source": [
    "def best_split(df):\n",
    "    features=[c for c in df.columns.to_list() if c != target]\n",
    "    split_list_feature=[]\n",
    "    split_list_threshold=[]\n",
    "    split_list_gini=[]\n",
    "    for f in features:\n",
    "        split,gini=determine_gini_var(f,df)\n",
    "        split_list_feature.append(f)\n",
    "        split_list_threshold.append(split)\n",
    "        split_list_gini.append(gini)\n",
    "\n",
    "    index=[i for i,v in enumerate(split_list_gini) if v== min(split_list_gini)][0]  \n",
    "    return split_list_feature[index], split_list_threshold[index],split_list_gini[index] "
   ]
  },
  {
   "cell_type": "code",
   "execution_count": 10,
   "id": "c5cd3043",
   "metadata": {
    "execution": {
     "iopub.execute_input": "2024-03-06T18:56:40.218233Z",
     "iopub.status.busy": "2024-03-06T18:56:40.217407Z",
     "iopub.status.idle": "2024-03-06T18:56:40.222249Z",
     "shell.execute_reply": "2024-03-06T18:56:40.221282Z"
    },
    "papermill": {
     "duration": 0.013233,
     "end_time": "2024-03-06T18:56:40.224835",
     "exception": false,
     "start_time": "2024-03-06T18:56:40.211602",
     "status": "completed"
    },
    "tags": []
   },
   "outputs": [],
   "source": [
    "def create_leave(df):\n",
    "    return tree_classifier(mode(df[target]))"
   ]
  },
  {
   "cell_type": "code",
   "execution_count": 11,
   "id": "06d049a0",
   "metadata": {
    "execution": {
     "iopub.execute_input": "2024-03-06T18:56:40.235855Z",
     "iopub.status.busy": "2024-03-06T18:56:40.235503Z",
     "iopub.status.idle": "2024-03-06T18:56:40.244891Z",
     "shell.execute_reply": "2024-03-06T18:56:40.243633Z"
    },
    "papermill": {
     "duration": 0.017816,
     "end_time": "2024-03-06T18:56:40.247292",
     "exception": false,
     "start_time": "2024-03-06T18:56:40.229476",
     "status": "completed"
    },
    "tags": []
   },
   "outputs": [],
   "source": [
    "def create_node(t,df):\n",
    "    if t is None:\n",
    "        if (len(df) <3):\n",
    "            return create_leave(df)\n",
    "            #return tree_classifier(mode(df[target]))\n",
    "        else:\n",
    "            return tree_classifier(best_split(df))\n",
    "    else:\n",
    "        var=t.root[0]\n",
    "        threshold=t.root[1]\n",
    "        gini=t.root[2]\n",
    "        left_node, right_node= get_node(df,var,threshold)\n",
    "        if ((len(left_node) <3) or gini == 0.000 or is_same(left_node[target].to_list())):\n",
    "            t.left=create_leave(left_node)\n",
    "        else:\n",
    "            t.left=create_node(t.left,left_node)\n",
    "            if (len(t.left.root) ==3):\n",
    "                t.left=create_node(t.left,left_node)\n",
    "            else:\n",
    "                t.left=create_leave(left_node)\n",
    "        if ((len(right_node) <3) or gini == 0.000 or is_same(right_node[target].to_list())):\n",
    "            t.right=create_leave(right_node)\n",
    "        else:\n",
    "            t.right=create_node(t.right, right_node)\n",
    "            if (len(t.right.root) ==3):\n",
    "                t.right=create_node(t.right,right_node)\n",
    "            else:\n",
    "                t.right=create_leave(right_node)\n",
    "        return t\n",
    "                                  "
   ]
  },
  {
   "cell_type": "code",
   "execution_count": 12,
   "id": "becd7d44",
   "metadata": {
    "execution": {
     "iopub.execute_input": "2024-03-06T18:56:40.258669Z",
     "iopub.status.busy": "2024-03-06T18:56:40.257778Z",
     "iopub.status.idle": "2024-03-06T18:56:40.266792Z",
     "shell.execute_reply": "2024-03-06T18:56:40.265912Z"
    },
    "papermill": {
     "duration": 0.017209,
     "end_time": "2024-03-06T18:56:40.269173",
     "exception": false,
     "start_time": "2024-03-06T18:56:40.251964",
     "status": "completed"
    },
    "tags": []
   },
   "outputs": [],
   "source": [
    "class tree_classifier():\n",
    "    def __init__(self,val=[]):\n",
    "        self.root=val\n",
    "        self.left=None\n",
    "        self.right=None\n",
    "    \n",
    "    def print_tree(self):\n",
    "        if self.root is not None:\n",
    "            print(self.root)\n",
    "        if self.left is not None:\n",
    "            self.left.print_tree() \n",
    "        if self.right is not None:\n",
    "            self.right.print_tree()\n",
    "            \n",
    "    def predict(self,df_predict):\n",
    "        if (self.left is not None or self.right is not None):\n",
    "            var=self.root[0]\n",
    "            threshold=self.root[1]\n",
    "            if (determine_node_dir(var,threshold) == True):\n",
    "                #left node\n",
    "                if self.left is not None:\n",
    "                    return(self.left.predict(df_predict))\n",
    "                else:\n",
    "                    return self.root            \n",
    "            else:\n",
    "                if self.right is not None:\n",
    "                    return (self.right.predict(df_predict))\n",
    "                else:\n",
    "                    return self.root\n",
    "        elif (self.left is None and self.right is None):\n",
    "            return self.root\n",
    "        else:\n",
    "            return        \n",
    "    \n",
    "    def fit(self,df):\n",
    "        self=create_node(self,df)"
   ]
  },
  {
   "cell_type": "code",
   "execution_count": 13,
   "id": "92bcaf3c",
   "metadata": {
    "execution": {
     "iopub.execute_input": "2024-03-06T18:56:40.280801Z",
     "iopub.status.busy": "2024-03-06T18:56:40.279614Z",
     "iopub.status.idle": "2024-03-06T18:56:40.314534Z",
     "shell.execute_reply": "2024-03-06T18:56:40.312847Z"
    },
    "papermill": {
     "duration": 0.043154,
     "end_time": "2024-03-06T18:56:40.316902",
     "exception": false,
     "start_time": "2024-03-06T18:56:40.273748",
     "status": "completed"
    },
    "tags": []
   },
   "outputs": [
    {
     "name": "stdout",
     "output_type": "stream",
     "text": [
      "('Loves Soda', 'No', 0.21428571428571427)\n",
      "No\n",
      "('Age', 12.5, 0.0)\n",
      "No\n",
      "Yes\n"
     ]
    }
   ],
   "source": [
    "t=tree_classifier(best_split(data_df))\n",
    "#t=create_node(t,data_df)\n",
    "t.fit(data_df)\n",
    "t.print_tree()"
   ]
  },
  {
   "cell_type": "code",
   "execution_count": 14,
   "id": "eeff733b",
   "metadata": {
    "execution": {
     "iopub.execute_input": "2024-03-06T18:56:40.328346Z",
     "iopub.status.busy": "2024-03-06T18:56:40.327997Z",
     "iopub.status.idle": "2024-03-06T18:56:40.347097Z",
     "shell.execute_reply": "2024-03-06T18:56:40.346104Z"
    },
    "papermill": {
     "duration": 0.027889,
     "end_time": "2024-03-06T18:56:40.349519",
     "exception": false,
     "start_time": "2024-03-06T18:56:40.321630",
     "status": "completed"
    },
    "tags": []
   },
   "outputs": [
    {
     "data": {
      "text/html": [
       "<div>\n",
       "<style scoped>\n",
       "    .dataframe tbody tr th:only-of-type {\n",
       "        vertical-align: middle;\n",
       "    }\n",
       "\n",
       "    .dataframe tbody tr th {\n",
       "        vertical-align: top;\n",
       "    }\n",
       "\n",
       "    .dataframe thead th {\n",
       "        text-align: right;\n",
       "    }\n",
       "</style>\n",
       "<table border=\"1\" class=\"dataframe\">\n",
       "  <thead>\n",
       "    <tr style=\"text-align: right;\">\n",
       "      <th></th>\n",
       "      <th>Loves Popcorn</th>\n",
       "      <th>Loves Soda</th>\n",
       "      <th>Age</th>\n",
       "      <th>Loves Cool as Ice</th>\n",
       "    </tr>\n",
       "  </thead>\n",
       "  <tbody>\n",
       "    <tr>\n",
       "      <th>0</th>\n",
       "      <td>No</td>\n",
       "      <td>Yes</td>\n",
       "      <td>15</td>\n",
       "      <td>Yes</td>\n",
       "    </tr>\n",
       "  </tbody>\n",
       "</table>\n",
       "</div>"
      ],
      "text/plain": [
       "  Loves Popcorn Loves Soda  Age Loves Cool as Ice\n",
       "0            No        Yes   15               Yes"
      ]
     },
     "execution_count": 14,
     "metadata": {},
     "output_type": "execute_result"
    }
   ],
   "source": [
    "df_predict=pd.DataFrame(columns=data_df.columns.to_list())\n",
    "df_predict[\"Age\"]= [15]\n",
    "df_predict[\"Loves Soda\"] = [\"Yes\"]\n",
    "df_predict[\"Loves Popcorn\"] = [\"No\"]\n",
    "df_predict.head(1)\n",
    "df_predict.at[0,\"Loves Soda\"]\n",
    "df_predict[\"Loves Cool as Ice\"]=[t.predict(df_predict)]\n",
    "df_predict.head(1)"
   ]
  }
 ],
 "metadata": {
  "kaggle": {
   "accelerator": "none",
   "dataSources": [],
   "dockerImageVersionId": 30664,
   "isGpuEnabled": false,
   "isInternetEnabled": true,
   "language": "python",
   "sourceType": "notebook"
  },
  "kernelspec": {
   "display_name": "Python 3",
   "language": "python",
   "name": "python3"
  },
  "language_info": {
   "codemirror_mode": {
    "name": "ipython",
    "version": 3
   },
   "file_extension": ".py",
   "mimetype": "text/x-python",
   "name": "python",
   "nbconvert_exporter": "python",
   "pygments_lexer": "ipython3",
   "version": "3.10.13"
  },
  "papermill": {
   "default_parameters": {},
   "duration": 4.515588,
   "end_time": "2024-03-06T18:56:40.774387",
   "environment_variables": {},
   "exception": null,
   "input_path": "__notebook__.ipynb",
   "output_path": "__notebook__.ipynb",
   "parameters": {},
   "start_time": "2024-03-06T18:56:36.258799",
   "version": "2.5.0"
  }
 },
 "nbformat": 4,
 "nbformat_minor": 5
}
