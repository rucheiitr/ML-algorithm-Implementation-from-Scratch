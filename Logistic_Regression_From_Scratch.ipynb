{
 "cells": [
  {
   "cell_type": "code",
   "execution_count": 39,
   "metadata": {},
   "outputs": [],
   "source": [
    "import pandas as pd\n",
    "import numpy as np\n",
    "import matplotlib.pyplot as plt\n",
    "from sklearn.metrics import classification_report, confusion_matrix\n",
    "from sklearn.model_selection import train_test_split\n",
    "from sklearn.datasets import load_breast_cancer \n",
    "from sklearn.preprocessing import StandardScaler"
   ]
  },
  {
   "cell_type": "code",
   "execution_count": 40,
   "metadata": {},
   "outputs": [],
   "source": [
    "X=load_breast_cancer()[\"data\"]\n",
    "Y=load_breast_cancer()[\"target\"]"
   ]
  },
  {
   "cell_type": "code",
   "execution_count": 41,
   "metadata": {},
   "outputs": [
    {
     "name": "stdout",
     "output_type": "stream",
     "text": [
      "<class 'numpy.ndarray'> <class 'numpy.ndarray'>\n",
      "(569, 30) (569,)\n"
     ]
    }
   ],
   "source": [
    "print(type(X), type(Y))\n",
    "print(X.shape, Y.shape)"
   ]
  },
  {
   "cell_type": "code",
   "execution_count": 42,
   "metadata": {},
   "outputs": [],
   "source": [
    "class LogisticRegression_Scratch():\n",
    "    def __init__(self):\n",
    "        self.coeff=None\n",
    "        \n",
    "    def sigmoid_function(self,X,theta):\n",
    "        z= X.dot(theta)\n",
    "        h_x= 1/ (1+ np.exp(-z))\n",
    "        return h_x\n",
    "    \n",
    "    def plot_loss(self, loss):\n",
    "        plt.title(\"Loss Function with respect to iterations\")\n",
    "        plt.xlabel(\"#Iterations\")\n",
    "        plt.ylabel(\"Loss Function\")\n",
    "        plt.plot(loss)\n",
    "        return \n",
    "    \n",
    "    def gradient_descent(self, X,y,theta,lr,iterations):\n",
    "        m=len(y)\n",
    "        loss_total=[]\n",
    "        for i in range(iterations):\n",
    "            h_x=self.sigmoid_function(X,theta)\n",
    "            l1= np.multiply(y,np.log(h_x))\n",
    "            l2= np.multiply((1-y),np.log(1-h_x))\n",
    "            loss= -1*np.sum(l1+l2)/m\n",
    "            loss_total.append(loss)\n",
    "            theta= theta - (lr/m)*(X.T.dot(h_x-y))\n",
    "        \n",
    "        self.plot_loss(loss_total)\n",
    "        return theta   \n",
    "\n",
    "    def fit(self,X,y,lr,iterations):\n",
    "        theta=np.zeros([X.shape[1],1])\n",
    "        self.coeff=self.gradient_descent(X,y,theta, lr,iterations)       \n",
    "        \n",
    "    def predict(self,X):\n",
    "        y_prob= self.sigmoid_function(X,self.coeff)\n",
    "        y_pred= [1 if y >0.5 else 0 for y in y_prob]\n",
    "        return y_pred     "
   ]
  },
  {
   "cell_type": "code",
   "execution_count": 43,
   "metadata": {},
   "outputs": [],
   "source": [
    "def data_scaling(X_scaled,y):\n",
    "    X_array=np.array(X_scaled)\n",
    "    Y_array=np.array(y)\n",
    "    print(f\"Dimensions of X array: f{X_array.shape}\")\n",
    "    print(f\"Dimensions of Y array {Y_array.shape}\")\n",
    "    Y_array=Y_array.reshape(-1,1)\n",
    "    print(f\"Dimensiona of Y array after flatten : f{Y_array.shape}\")\n",
    "    return X_array,Y_array\n",
    "    \n",
    "def add_intercept(X_array):    \n",
    "    m=len(X_array)\n",
    "    print(f\"Dimensions of X array before addition of intercept: f{X_array.shape}\")\n",
    "    X_array= np.append(np.ones([m,1]),X_array, axis=1)\n",
    "    print(f\"Dimensions of X array after addition of intercept {X_array.shape}\")\n",
    "    return X_array"
   ]
  },
  {
   "cell_type": "code",
   "execution_count": 44,
   "metadata": {},
   "outputs": [],
   "source": [
    "X_train, X_test, Y_train,Y_test= train_test_split(X,Y, test_size=0.30, random_state=42)"
   ]
  },
  {
   "cell_type": "code",
   "execution_count": 45,
   "metadata": {},
   "outputs": [
    {
     "name": "stdout",
     "output_type": "stream",
     "text": [
      "Dimensions of X array: f(398, 30)\n",
      "Dimensions of Y array (398,)\n",
      "Dimensiona of Y array after flatten : f(398, 1)\n",
      "Dimensions of X array before addition of intercept: f(398, 30)\n",
      "Dimensions of X array after addition of intercept (398, 31)\n"
     ]
    },
    {
     "data": {
      "image/png": "[encoded data removed]",
      "text/plain": [
       "<Figure size 640x480 with 1 Axes>"
      ]
     },
     "metadata": {},
     "output_type": "display_data"
    }
   ],
   "source": [
    "scaler= StandardScaler()\n",
    "X_scaled=scaler.fit_transform(X_train)\n",
    "\n",
    "X_array,Y_array= data_scaling(X_scaled,Y_train)\n",
    "X_array = add_intercept(X_array)\n",
    "\n",
    "lgr_scratch=LogisticRegression_Scratch()\n",
    "lgr_scratch.fit(X_array,Y_array,0.5,100)"
   ]
  },
  {
   "cell_type": "code",
   "execution_count": 46,
   "metadata": {},
   "outputs": [
    {
     "name": "stdout",
     "output_type": "stream",
     "text": [
      "Dimensions of X array: f(171, 30)\n",
      "Dimensions of Y array (171,)\n",
      "Dimensiona of Y array after flatten : f(171, 1)\n",
      "Dimensions of X array before addition of intercept: f(171, 30)\n",
      "Dimensions of X array after addition of intercept (171, 31)\n",
      "Based on Testing Data : \n",
      " [[ 61   2]\n",
      " [  0 108]]\n",
      "Based on Training Data : \n",
      "  [[145   4]\n",
      " [  2 247]]\n"
     ]
    }
   ],
   "source": [
    "X_scaled_test=scaler.fit_transform(X_test)\n",
    "X_array_test,Y_array_test= data_scaling(X_scaled_test,Y_test)\n",
    "X_array_test = add_intercept(X_array_test)\n",
    "print(f\"Based on Testing Data : \\n {confusion_matrix(Y_array_test,lgr_scratch.predict(X_array_test))}\") \n",
    "print(f\"Based on Training Data : \\n  {confusion_matrix(Y_array,lgr_scratch.predict(X_array))}\") \n"
   ]
  }
 ],
 "metadata": {
  "kernelspec": {
   "display_name": "Python 3",
   "language": "python",
   "name": "python3"
  },
  "language_info": {
   "codemirror_mode": {
    "name": "ipython",
    "version": 3
   },
   "file_extension": ".py",
   "mimetype": "text/x-python",
   "name": "python",
   "nbconvert_exporter": "python",
   "pygments_lexer": "ipython3",
   "version": "3.11.5"
  }
 },
 "nbformat": 4,
 "nbformat_minor": 2
}
